{
 "cells": [
  {
   "cell_type": "code",
   "execution_count": null,
   "metadata": {},
   "outputs": [],
   "source": [
    "import pandas as pd\n",
    "import statsmodels.api as sm\n",
    "from statsmodels.formula.api import ols\n",
    "\n",
    "# Load combined data\n",
    "sales_before = pd.read_csv('../data/sales_before.csv')\n",
    "sales_after = pd.read_csv('../data/sales_after.csv')\n",
    "data = pd.concat([sales_before, sales_after])\n",
    "\n",
    "# Create treatment and post variables\n",
    "data['treatment'] = [0] * len(sales_before) + [1] * len(sales_after)\n",
    "data['post'] = (data['date'] >= '2020-01-01').astype(int)\n",
    "\n",
    "# Include store characteristics and customer demographics in the analysis\n",
    "store_characteristics = pd.read_csv('../data/store_characteristics.csv')\n",
    "customer_demographics = pd.read_csv('../data/customer_demographics.csv')\n",
    "data = data.merge(store_characteristics, on='store_id', how='left')\n",
    "data = data.merge(customer_demographics, on='customer_id', how='left')\n",
    "\n",
    "# DiD analysis with interactions for heterogeneity\n",
    "did_heterogeneity_model = ols('sales ~ treatment * post * (store_size + store_location + income)', data=data).fit()\n",
    "print(did_heterogeneity_model.summary())"
   ]
  }
 ],
 "metadata": {
  "language_info": {
   "name": "python"
  },
  "orig_nbformat": 4
 },
 "nbformat": 4,
 "nbformat_minor": 2
}
