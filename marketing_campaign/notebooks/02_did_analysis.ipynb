{
 "cells": [
  {
   "cell_type": "code",
   "execution_count": 2,
   "metadata": {},
   "outputs": [
    {
     "name": "stdout",
     "output_type": "stream",
     "text": [
      "                            OLS Regression Results                            \n",
      "==============================================================================\n",
      "Dep. Variable:                  sales   R-squared:                       0.166\n",
      "Model:                            OLS   Adj. R-squared:                  0.164\n",
      "Method:                 Least Squares   F-statistic:                     98.94\n",
      "Date:                Thu, 23 May 2024   Prob (F-statistic):          7.91e-114\n",
      "Time:                        14:12:31   Log-Likelihood:                -16248.\n",
      "No. Observations:                3000   AIC:                         3.251e+04\n",
      "Df Residuals:                    2993   BIC:                         3.255e+04\n",
      "Df Model:                           6                                         \n",
      "Covariance Type:            nonrobust                                         \n",
      "==============================================================================================\n",
      "                                 coef    std err          t      P>|t|      [0.025      0.975]\n",
      "----------------------------------------------------------------------------------------------\n",
      "Intercept                    500.8534      2.650    189.023      0.000     495.658     506.049\n",
      "store_size[T.medium]           1.8532      2.360      0.785      0.432      -2.773       6.480\n",
      "store_size[T.small]            1.7447      2.591      0.673      0.501      -3.336       6.825\n",
      "store_location[T.suburban]    -0.0259      2.720     -0.010      0.992      -5.359       5.307\n",
      "store_location[T.urban]        1.9043      2.460      0.774      0.439      -2.918       6.727\n",
      "treatment                    2.32e+13   8.55e+13      0.271      0.786   -1.44e+14    1.91e+14\n",
      "post                        -1.16e+13   4.27e+13     -0.271      0.786   -9.54e+13    7.22e+13\n",
      "treatment:post              -1.16e+13   4.27e+13     -0.271      0.786   -9.54e+13    7.22e+13\n",
      "==============================================================================\n",
      "Omnibus:                        6.382   Durbin-Watson:                   2.020\n",
      "Prob(Omnibus):                  0.041   Jarque-Bera (JB):                7.242\n",
      "Skew:                           0.041   Prob(JB):                       0.0268\n",
      "Kurtosis:                       3.226   Cond. No.                     1.60e+28\n",
      "==============================================================================\n",
      "\n",
      "Notes:\n",
      "[1] Standard Errors assume that the covariance matrix of the errors is correctly specified.\n",
      "[2] The smallest eigenvalue is  3e-53. This might indicate that there are\n",
      "strong multicollinearity problems or that the design matrix is singular.\n"
     ]
    }
   ],
   "source": [
    "import pandas as pd\n",
    "import statsmodels.api as sm\n",
    "from statsmodels.formula.api import ols\n",
    "\n",
    "# Load combined data\n",
    "sales_before = pd.read_csv('../data/sales_before.csv')\n",
    "sales_after = pd.read_csv('../data/sales_after.csv')\n",
    "data = pd.concat([sales_before, sales_after])\n",
    "\n",
    "# Create treatment and post variables\n",
    "data['treatment'] = [0] * len(sales_before) + [1] * len(sales_after)\n",
    "data['post'] = (data['date'] >= '2020-01-01').astype(int)\n",
    "\n",
    "# Include store characteristics in the analysis\n",
    "store_characteristics = pd.read_csv('../data/store_characteristics.csv')\n",
    "data = data.merge(store_characteristics, on='store_id', how='left')\n",
    "\n",
    "# DiD analysis controlling for store characteristics\n",
    "did_model = ols('sales ~ treatment * post + store_size + store_location', data=data).fit()\n",
    "print(did_model.summary())"
   ]
  }
 ],
 "metadata": {
  "kernelspec": {
   "display_name": "base",
   "language": "python",
   "name": "python3"
  },
  "language_info": {
   "codemirror_mode": {
    "name": "ipython",
    "version": 3
   },
   "file_extension": ".py",
   "mimetype": "text/x-python",
   "name": "python",
   "nbconvert_exporter": "python",
   "pygments_lexer": "ipython3",
   "version": "3.11.4"
  },
  "orig_nbformat": 4
 },
 "nbformat": 4,
 "nbformat_minor": 2
}
